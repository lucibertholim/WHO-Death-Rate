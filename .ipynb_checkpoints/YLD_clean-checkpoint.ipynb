{
 "cells": [
  {
   "cell_type": "code",
   "execution_count": 2,
   "metadata": {},
   "outputs": [],
   "source": [
    "import pandas as pd\n",
    "import numpy as np"
   ]
  },
  {
   "cell_type": "code",
   "execution_count": 3,
   "metadata": {},
   "outputs": [],
   "source": [
    "years_list=['2000', '2010', '2016']"
   ]
  },
  {
   "cell_type": "code",
   "execution_count": 7,
   "metadata": {},
   "outputs": [],
   "source": [
    "for year in years_list:\n",
    "    xls = pd.ExcelFile('GHE2016_YLD-'+year+'-country.xls')\n",
    "    df = pd.read_excel(xls, 'YLD All ages', index_col=None, header=None)\n",
    "    df_1=df.drop(df.index[0:6])\n",
    "    df_1 = df_1.replace(np.nan, '', regex=True)\n",
    "    df_1[\"disease\"] = df_1[3].map(str) + \" \" + df_1[4].map(str) + \" \" + df_1[5].map(str) + \" \" + df_1[6].map(str) \n",
    "    df_1b=df_1.drop([1,2,3,4,5,6], axis = 1) \n",
    "    df_1b.columns=df_1b.iloc[0]\n",
    "    df_2=df_1b.drop(df_1b.index[0])\n",
    "    df_3=df_2.loc[df_2['Sex']==\"Persons\"]\n",
    "    df_4=df_3.drop(['Sex'], axis=1)\n",
    "    df_transposed=df_4.set_index('GHE cause   Member State\\n(See Notes for explanation of colour codes)').T\n",
    "    df_transposed.to_csv(\"GHE\"+year+ \"_clean.csv\")"
   ]
  },
  {
   "cell_type": "code",
   "execution_count": null,
   "metadata": {},
   "outputs": [],
   "source": []
  }
 ],
 "metadata": {
  "kernelspec": {
   "display_name": "Python 3",
   "language": "python",
   "name": "python3"
  },
  "language_info": {
   "codemirror_mode": {
    "name": "ipython",
    "version": 3
   },
   "file_extension": ".py",
   "mimetype": "text/x-python",
   "name": "python",
   "nbconvert_exporter": "python",
   "pygments_lexer": "ipython3",
   "version": "3.6.7"
  }
 },
 "nbformat": 4,
 "nbformat_minor": 2
}
