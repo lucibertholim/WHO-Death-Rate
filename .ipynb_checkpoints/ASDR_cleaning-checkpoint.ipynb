{
 "cells": [
  {
   "cell_type": "code",
   "execution_count": 2,
   "metadata": {},
   "outputs": [
    {
     "name": "stdout",
     "output_type": "stream",
     "text": [
      "ASDR2000\n",
      "ASDR2010\n",
      "ASDR2016\n"
     ]
    }
   ],
   "source": [
    "import pandas as pd\n",
    "import numpy as np\n",
    "\n",
    "xls = pd.ExcelFile('Resources/GHE2016_Death-Rates-country.xls')\n",
    "\n",
    "year_list=['2000', '2010', '2016']\n",
    "\n",
    "ASDR_final2000=\"\"\n",
    "ASDR_final2010=\"\"\n",
    "ASDR_final2016=\"\"\n",
    "\n",
    "for year in year_list:\n",
    "    file='ASDR'+year\n",
    "    print(file)\n",
    "    df = pd.read_excel(xls, 'ASDR'+year, index_col=None, header=None)\n",
    "    df_1=df.drop(df.index[0:6])\n",
    "    df_1 = df_1.replace(np.nan, '', regex=True)\n",
    "    df_1[\"disease\"] = df_1[3].map(str) + \" \" + df_1[4].map(str) + \" \" + df_1[5].map(str) + \" \" + df_1[6].map(str)   \n",
    "    df_1b=df_1.drop([1,2,3,4,5,6], axis = 1) \n",
    "    df_1b.columns=df_1b.iloc[0]\n",
    "    df_2=df_1b.drop(df_1b.index[0])\n",
    "    df_3=df_2.loc[df_2['Sex']==\"Persons\"]\n",
    "    df_4=df_3.drop(['Sex'], axis=1)\n",
    "    df_transposed=df_4.set_index('GHE cause   Member State\\n(See Notes for explanation of colour codes)').T\n",
    "    columns_list=list(df_transposed)\n",
    "\n",
    "    new_columns_list=[]\n",
    "    for item in columns_list:\n",
    "        try:\n",
    "            item2=item.split(\".\")[1][1:]\n",
    "            new_columns_list.append(item2)\n",
    "        except:\n",
    "            new_columns_list.append(item)\n",
    "\n",
    "    df_transposed.columns=new_columns_list\n",
    "    df_transposed.index.names = ['Country']\n",
    "    df_transposed2=df_transposed.reset_index()\n",
    "    df_transposed3=df_transposed2.rename(columns={\"Population ('000) (2)   \":\"Population\"})\n",
    "    \n",
    "    df_melt=pd.melt(df_transposed3, id_vars=['Country', 'Population'])\n",
    "    df_melt2=df_melt.rename(columns={\"value\":year})\n",
    "    \n",
    "    if year == '2000':\n",
    "        ASDR_final=df_melt2\n",
    "    else:\n",
    "        ASDR_final[year]=df_melt2[year] \n",
    "    \n",
    "    \n",
    "        \n",
    "        "
   ]
  },
  {
   "cell_type": "code",
   "execution_count": 3,
   "metadata": {},
   "outputs": [
    {
     "data": {
      "text/html": [
       "<div>\n",
       "<style scoped>\n",
       "    .dataframe tbody tr th:only-of-type {\n",
       "        vertical-align: middle;\n",
       "    }\n",
       "\n",
       "    .dataframe tbody tr th {\n",
       "        vertical-align: top;\n",
       "    }\n",
       "\n",
       "    .dataframe thead th {\n",
       "        text-align: right;\n",
       "    }\n",
       "</style>\n",
       "<table border=\"1\" class=\"dataframe\">\n",
       "  <thead>\n",
       "    <tr style=\"text-align: right;\">\n",
       "      <th></th>\n",
       "      <th>Country</th>\n",
       "      <th>Population</th>\n",
       "      <th>variable</th>\n",
       "      <th>2000</th>\n",
       "      <th>2010</th>\n",
       "      <th>2016</th>\n",
       "    </tr>\n",
       "  </thead>\n",
       "  <tbody>\n",
       "    <tr>\n",
       "      <th>0</th>\n",
       "      <td>Afghanistan</td>\n",
       "      <td>20094</td>\n",
       "      <td>All Causes</td>\n",
       "      <td>1617.46</td>\n",
       "      <td>1327.41</td>\n",
       "      <td>1254.81</td>\n",
       "    </tr>\n",
       "    <tr>\n",
       "      <th>1</th>\n",
       "      <td>Albania</td>\n",
       "      <td>3122</td>\n",
       "      <td>All Causes</td>\n",
       "      <td>766.35</td>\n",
       "      <td>678.77</td>\n",
       "      <td>609.17</td>\n",
       "    </tr>\n",
       "    <tr>\n",
       "      <th>2</th>\n",
       "      <td>Algeria</td>\n",
       "      <td>31184</td>\n",
       "      <td>All Causes</td>\n",
       "      <td>814.9</td>\n",
       "      <td>613.497</td>\n",
       "      <td>558.789</td>\n",
       "    </tr>\n",
       "    <tr>\n",
       "      <th>3</th>\n",
       "      <td>Angola</td>\n",
       "      <td>16441</td>\n",
       "      <td>All Causes</td>\n",
       "      <td>2014.85</td>\n",
       "      <td>1372.69</td>\n",
       "      <td>1181.02</td>\n",
       "    </tr>\n",
       "    <tr>\n",
       "      <th>4</th>\n",
       "      <td>Antigua and Barbuda</td>\n",
       "      <td>84</td>\n",
       "      <td>All Causes</td>\n",
       "      <td>779.191</td>\n",
       "      <td>657.044</td>\n",
       "      <td>667.183</td>\n",
       "    </tr>\n",
       "  </tbody>\n",
       "</table>\n",
       "</div>"
      ],
      "text/plain": [
       "               Country Population       variable     2000     2010     2016\n",
       "0          Afghanistan      20094  All Causes     1617.46  1327.41  1254.81\n",
       "1              Albania       3122  All Causes      766.35   678.77   609.17\n",
       "2              Algeria      31184  All Causes       814.9  613.497  558.789\n",
       "3               Angola      16441  All Causes     2014.85  1372.69  1181.02\n",
       "4  Antigua and Barbuda         84  All Causes     779.191  657.044  667.183"
      ]
     },
     "execution_count": 3,
     "metadata": {},
     "output_type": "execute_result"
    }
   ],
   "source": [
    "ASDR_final.head()"
   ]
  },
  {
   "cell_type": "code",
   "execution_count": null,
   "metadata": {},
   "outputs": [],
   "source": []
  },
  {
   "cell_type": "code",
   "execution_count": 15,
   "metadata": {},
   "outputs": [],
   "source": [
    "ASDR_final.to_csv(\"ASDR_clean.csv\")"
   ]
  },
  {
   "cell_type": "code",
   "execution_count": null,
   "metadata": {},
   "outputs": [],
   "source": []
  }
 ],
 "metadata": {
  "kernelspec": {
   "display_name": "Python 3",
   "language": "python",
   "name": "python3"
  },
  "language_info": {
   "codemirror_mode": {
    "name": "ipython",
    "version": 3
   },
   "file_extension": ".py",
   "mimetype": "text/x-python",
   "name": "python",
   "nbconvert_exporter": "python",
   "pygments_lexer": "ipython3",
   "version": "3.6.7"
  }
 },
 "nbformat": 4,
 "nbformat_minor": 2
}
